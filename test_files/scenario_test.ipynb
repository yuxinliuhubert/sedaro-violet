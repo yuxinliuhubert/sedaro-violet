{
 "cells": [
  {
   "cell_type": "code",
   "execution_count": 1,
   "id": "7b6b0a1a",
   "metadata": {},
   "outputs": [
    {
     "name": "stderr",
     "output_type": "stream",
     "text": [
      "/Users/hubertliu/Library/Python/3.9/lib/python/site-packages/google/protobuf/runtime_version.py:98: UserWarning: Protobuf gencode version 5.27.2 is exactly one major version older than the runtime version 6.31.1 at cosim.proto. Please update the gencode to avoid compatibility violations in the next runtime release.\n",
      "  warnings.warn(\n"
     ]
    }
   ],
   "source": [
    "from sedaro import SedaroApiClient\n",
    "\n",
    "API_KEY = \"PKDqMrtcTK4plJgL7qVlQD.0xQph1lyKzd-pV0-ZL7bRIH7BX54Yjqbz6tluwut3Hvp8XE-RVbfHSz2o5vC77scUhg2xBFuBybplxY6FyXXMQ\"\n",
    "TEMP_AGENT_REPO_BRANCH_ID = \"PS5ZPCp6mh5yXLH3lkCWFj\" # Specific Repo of the Templated agent \n",
    "SCENARIO_BRANCH_VERSION_ID = \"PRx5rSwrGfkK4n9vFXmVbt\" # Version 2\n",
    "WORKSPACE_ID = \"PQtnGZNNPdzZM5JdVhP5P9\" # Violet/Ethreal workspace\n",
    "\n",
    "# Define modules\n",
    "sedaro = SedaroApiClient(api_key = API_KEY)\n",
    "# agent template is only for satellite model (agent), and don't copy the model repo ID, only the branch ID (version)\n",
    "scenario_branch = sedaro.scenario(SCENARIO_BRANCH_VERSION_ID)"
   ]
  },
  {
   "cell_type": "code",
   "execution_count": null,
   "id": "6210e1b2",
   "metadata": {},
   "outputs": [
    {
     "name": "stdout",
     "output_type": "stream",
     "text": [
      "[\n",
      "TemplatedAgent(\n",
      "   angularVelocity=None\n",
      "   annotations={'$': {'subsystem': 'Agents'}}\n",
      "   attitude=None\n",
      "   disabled=False\n",
      "   externalState=[]\n",
      "   id='PRkHzzmM9MMY9JPfBDd7LC'\n",
      "   kinematics='PS5ZtmmnWlynTsPKYs5HSd'\n",
      "   name='My In-orbit Spacecraft'\n",
      "   position={'eci': [4722.155958392787, 4722.1559583927865, 0.0]}\n",
      "   targetGroupMapping={}\n",
      "   targetMapping={'PRknkFRHNYJhkCV8b53CLG': {'associatedTargets': ['PRkndRsqYQpwX9b5mNccvk', 'PS5ZRYkBkbxXXnmGDsyCQ6']}, 'PRx5x67Z7LxtW5RNXvCfwR': {'associatedTargets': ['PRwwslS9wmTbjh3H55nRX7', 'PS5ZRvjGmMkDDHf8CVMpg8']}, 'PRykkzdKj7Mbc2vD2PHq7D': {'associatedTargets': ['PRykkByqkk6x6vJjlRrp4b', 'PS5ZRN4ZPJB3wv89F4kxcw']}}\n",
      "   templateRef='PS5ZPCp6mh5yXLH3lkCWFj'\n",
      "   type='TemplatedAgent'\n",
      "   velocity={'eci': [-5.462937449923098, 5.462937449923099, 0.0]}\n",
      ")\n",
      "]\n",
      "[\n",
      "PeripheralCelestialPoint(\n",
      "   angularVelocity=None\n",
      "   annotations={'$': {'subsystem': 'Agents'}}\n",
      "   attitude=None\n",
      "   body='SUN'\n",
      "   disabled=False\n",
      "   externalState=[]\n",
      "   id='PRykkzdKj7Mbc2vD2PHq7D'\n",
      "   name='Sun'\n",
      "   position={'eci': [121701469.24658164, -76842426.47012831, -33310741.72992448]}\n",
      "   type='PeripheralCelestialPoint'\n",
      "   velocity={'eci': [17.36826546771203, 22.60724689327168, 9.798663456272093]}\n",
      ")\n",
      ", \n",
      "PeripheralGroundPoint(\n",
      "   angularVelocity=None\n",
      "   annotations={'$': {'subsystem': 'Agents'}}\n",
      "   attitude=None\n",
      "   disabled=False\n",
      "   externalState=[]\n",
      "   id='PRknkFRHNYJhkCV8b53CLG'\n",
      "   kinematics='PRknkFRKN3ddzLqPhHk9mq'\n",
      "   name='My Ground Point'\n",
      "   position={'ecef': [1326.0892479373117, -6238.759403701512, 0.0]}\n",
      "   timeStepConstraints={'gnc': {'max': 60.0, 'min': 1.0}}\n",
      "   type='PeripheralGroundPoint'\n",
      "   velocity={'ecef': [0.4549375636513377, 0.09669996430426522, 0.0]}\n",
      ")\n",
      ", \n",
      "PeripheralSpacePoint(\n",
      "   angularVelocity=None\n",
      "   annotations={'$': {'subsystem': 'Agents'}}\n",
      "   attitude=None\n",
      "   disabled=False\n",
      "   externalState=[]\n",
      "   id='PRx5x67Z7LxtW5RNXvCfwR'\n",
      "   kinematics='PRx5x67c44HztxDplCTVsm'\n",
      "   name='Sat 2'\n",
      "   position={'eci': [-6371.124238223521, -1439.110257615094, -1818.3115617586564]}\n",
      "   timeStepConstraints={'gnc': {'max': 10.0, 'min': 0.1}}\n",
      "   type='PeripheralSpacePoint'\n",
      "   velocity={'eci': [2.6224392945643342, -4.471484216057904, -5.649707105662251]}\n",
      ")\n",
      "]\n"
     ]
    }
   ],
   "source": [
    "print(scenario_branch.TemplatedAgent.get_all())\n",
    "print(scenario_branch.PeripheralAgent.get_all())\n"
   ]
  },
  {
   "cell_type": "code",
   "execution_count": 15,
   "id": "fb8be536",
   "metadata": {},
   "outputs": [
    {
     "name": "stdout",
     "output_type": "stream",
     "text": [
      "Downloading...\n",
      "...download complete!\n",
      "Processing downloaded data...\n"
     ]
    }
   ],
   "source": [
    "sim = scenario_branch.simulation\n",
    "sim_result = sim.results()"
   ]
  },
  {
   "cell_type": "code",
   "execution_count": 21,
   "id": "772e4d4e",
   "metadata": {},
   "outputs": [
    {
     "name": "stdout",
     "output_type": "stream",
     "text": [
      "---------------------------------------------------------------------------\n",
      "                            Agent Result Summary                           \n",
      "                                  'Sat 2'                                  \n",
      "---------------------------------------------------------------------------\n",
      "🧩 Simulated Modules\n",
      "    • Guidance, Navigation, & Control\n",
      "\n",
      "📦 Available Blocks\n",
      "    -------------------------------------------------------------------------------------------\n",
      "    |              id                        type                          name               |\n",
      "    -------------------------------------------------------------------------------------------\n",
      "    | root                       |                                |                           |\n",
      "    -------------------------------------------------------------------------------------------\n",
      "---------------------------------------------------------------------------\n",
      "❓ Query block results with .block(<ID>) or .block(<PARTIAL_ID>)\n",
      "None\n"
     ]
    }
   ],
   "source": [
    "print(sim_result.agent(\"PRx5x67Z7LxtW5RNXvCfwR\").summarize())"
   ]
  }
 ],
 "metadata": {
  "kernelspec": {
   "display_name": "Python 3",
   "language": "python",
   "name": "python3"
  },
  "language_info": {
   "codemirror_mode": {
    "name": "ipython",
    "version": 3
   },
   "file_extension": ".py",
   "mimetype": "text/x-python",
   "name": "python",
   "nbconvert_exporter": "python",
   "pygments_lexer": "ipython3",
   "version": "3.9.6"
  }
 },
 "nbformat": 4,
 "nbformat_minor": 5
}
