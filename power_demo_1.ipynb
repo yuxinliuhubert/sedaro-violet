{
 "cells": [
  {
   "cell_type": "markdown",
   "id": "dc307828",
   "metadata": {},
   "source": [
    "# Hubert Violet Sedaro Demo Phase 1\n",
    "## START RECORDING BEFORE DEMO STARTS  \n",
    "## Big Idea\n",
    "This script aims to demo Violet platform's ability to auto trigger simulations based on certain parameter changes, and whether the changes result in a successful simulation or not, and relevant validation metrics.\n",
    "### Use case, I/O, and cutomer's expectation\n",
    "A Violet customer who makes commercial satellites have some batteries with different capacities and prices. The customer wants to go with the cheapest (and lowest capacity in this case) first. Given the orbit, timeframe, and conditions that this satellite is working in, the customer wants to know if the battery of choice can last through this period. If it does, what is the mimnimal and average state of charge?\n",
    "### Nomenclature\n",
    "Agent: Satellites, ground stations, celesial bodies, or any active actor that influences others. \\\n",
    "Templated Agent: It has high Fidelity, and we can study it extensively, such as power and thermal. The main character of the show. \\\n",
    "Scenario: The theatre that all the agents act in. \\\n",
    "Branch: Sedaro simulation is git controlled, so you can create multiple version of a scenario or agent, which are called branches. \\\n",
    "\n"
   ]
  },
  {
   "cell_type": "code",
   "execution_count": 15,
   "id": "cf0f9d00",
   "metadata": {},
   "outputs": [],
   "source": [
    "# We will start with defining all the IDs and import all modules.\n",
    "from sedaro import SedaroApiClient\n",
    "from pprint import pprint\n",
    "API_KEY = \"PKDqMrtcTK4plJgL7qVlQD.0xQph1lyKzd-pV0-ZL7bRIH7BX54Yjqbz6tluwut3Hvp8XE-RVbfHSz2o5vC77scUhg2xBFuBybplxY6FyXXMQ\"\n",
    "TEMP_AGENT_REPO_BRANCH_ID = \"PRkHJlBrpwLDCqPqfbkdrb\" # Specific Repo of the Templated agent \n",
    "SCENARIO_BRANCH_VERSION_ID = \"PRx5rSwrGfkK4n9vFXmVbt\" # Version 2"
   ]
  },
  {
   "cell_type": "code",
   "execution_count": 16,
   "id": "003d350e",
   "metadata": {},
   "outputs": [],
   "source": [
    "# Define modules\n",
    "sedaro = SedaroApiClient(api_key = API_KEY)\n",
    "# agent template is only for satellite model (agent), and don't copy the model repo ID, only the branch ID (version)\n",
    "agent_template_branch = sedaro.agent_template(TEMP_AGENT_REPO_BRANCH_ID) # we are going to change this templated agent\n"
   ]
  },
  {
   "cell_type": "code",
   "execution_count": 3,
   "id": "61a8c037",
   "metadata": {},
   "outputs": [],
   "source": [
    "\n",
    "# NO NEED TO RUN THIS SINCE IT CHANGES REACTION WHEELS' PARAMETERS. IRRELAVENT TO THIS DEMO BUT COULD TO SHOW CAPABILITY\n",
    "\n",
    "# # # to successfully update a model mass, use this method below. only get the branch ID (version x)\n",
    "# RCS_Z_id = \"PRx7YwymYJgtlTDBjPKfJG\"\n",
    "# RCS_Y_id = \"PRybmF9qkFSZFVf2gxYSk5\"\n",
    "# RCS_X_id = \"PRybm3zT77x3kCSSYHCKgG\"\n",
    "# RCS_ids = [RCS_X_id, RCS_Y_id, RCS_Z_id]\n",
    "\n",
    "# for i in range(len(RCS_ids)):\n",
    "#     RCS = agent_template_branch.block(RCS_ids[i]) # directly use \"id\" in Blueprint\n",
    "#     RCS.update(ratedMomentum = 0.8, ratedTorque = 0.2)\n",
    "#     print(\"Current RCS rated momentum: \",RCS.ratedMomentum, \" , rated torque: \",RCS.ratedTorque)\n",
    "\n",
    "# # pprint(components.data)\n",
    "\n",
    "# # Note for Lael: where do i see all the variable names? For example, wheel inertia is inertia, how am I supposed to know that. do i\n",
    "# # always need to print it out using .data command\n",
    "\n",
    "# # how does the sun tracking surface work?\n"
   ]
  },
  {
   "cell_type": "code",
   "execution_count": 4,
   "id": "513198fd",
   "metadata": {},
   "outputs": [
    {
     "name": "stdout",
     "output_type": "stream",
     "text": [
      "Current battery capacity:  3.35\n",
      "Current battery in parallel:  3\n"
     ]
    }
   ],
   "source": [
    "# Version 1 (success)\n",
    "battery_capacity_Ah = 3.35\n",
    "num_bat = 3\n",
    "\n",
    "# # Version 2 (Failed)\n",
    "# battery_capacity_Ah = 0.335\n",
    "# num_bat = 3\n",
    "\n",
    "battery_cell_id = 'PK3PCpCJRn6LpwvhWzNtsb' \n",
    "battery_pack_id = 'PRx5qGqQD59tCW4V9tBGQb'\n",
    "battery_cell_block = agent_template_branch.block(battery_cell_id) # directly use \"id\" in Blueprint\n",
    "battery_pack_block = agent_template_branch.block(battery_pack_id) \n",
    "battery_cell_block.update(capacity = battery_capacity_Ah)\n",
    "print('Current battery capacity: ', battery_cell_block.capacity)\n",
    "battery_pack_block.update(numParallel = num_bat)\n",
    "print('Current battery in parallel: ', battery_pack_block.numParallel)\n",
    "\n",
    "\n",
    "## grab all data of spacecraft and repopulate another model"
   ]
  },
  {
   "cell_type": "code",
   "execution_count": 37,
   "id": "0999d7fe",
   "metadata": {},
   "outputs": [
    {
     "ename": "TypeError",
     "evalue": "getattr expected at least 2 arguments, got 1",
     "output_type": "error",
     "traceback": [
      "\u001b[0;31m---------------------------------------------------------------------------\u001b[0m",
      "\u001b[0;31mTypeError\u001b[0m                                 Traceback (most recent call last)",
      "Cell \u001b[0;32mIn[37], line 1\u001b[0m\n\u001b[0;32m----> 1\u001b[0m test_blocks \u001b[38;5;241m=\u001b[39m \u001b[38;5;28;43mgetattr\u001b[39;49m\u001b[43m(\u001b[49m\u001b[43magent_template_branch\u001b[49m\u001b[43m)\u001b[49m\n\u001b[1;32m      2\u001b[0m pprint(test_blocks)\n\u001b[1;32m      4\u001b[0m btcell \u001b[38;5;241m=\u001b[39m test_blocks\u001b[38;5;241m.\u001b[39mget(\u001b[38;5;124m\"\u001b[39m\u001b[38;5;124mBatteryCell\u001b[39m\u001b[38;5;124m\"\u001b[39m)\n",
      "\u001b[0;31mTypeError\u001b[0m: getattr expected at least 2 arguments, got 1"
     ]
    }
   ],
   "source": [
    "test_blocks = getattr(agent_template_branch)\n",
    "pprint(test_blocks)\n",
    "\n",
    "btcell = test_blocks.get(\"BatteryCell\")\n",
    "print(btcell)\n",
    "# btTestBlock = agent_template_branch.block(btcell)\n",
    "# print(btTestBlock)\n",
    "test_block = agent_template_branch.BatteryCell\n",
    "print(test_block)\n",
    "# print(test_block.get_all_ids())\n",
    "# test_block.update(capacity = battery_capacity_Ah)\n",
    "# print('Current battery capacity: ', battery_cell_block.capacity)"
   ]
  },
  {
   "cell_type": "code",
   "execution_count": 5,
   "id": "e4555864",
   "metadata": {},
   "outputs": [],
   "source": [
    "# Get a scenario branch\n",
    "scenario_branch = sedaro.scenario(SCENARIO_BRANCH_VERSION_ID)\n",
    "sim = scenario_branch.simulation"
   ]
  },
  {
   "cell_type": "markdown",
   "id": "1c945bef",
   "metadata": {},
   "source": [
    "Pull up Sedaro window before starting the simulation"
   ]
  },
  {
   "cell_type": "code",
   "execution_count": 6,
   "id": "cf1514cd",
   "metadata": {},
   "outputs": [
    {
     "name": "stdout",
     "output_type": "stream",
     "text": [
      "PENDING\n",
      "<sedaro.branches.scenario_branch.sim_client.SimulationHandle object at 0x12b0f1e50>\n"
     ]
    }
   ],
   "source": [
    "simulation_handle = sim.start(wait=False)\n",
    "print(simulation_handle['status'])\n",
    "\n",
    "simulation_handle = sim.status() # must first grab the status to then call the status\n",
    "\n",
    "print(simulation_handle.poll()) # this synchronously update with the progress bar\n",
    "# print(simulation_handle.results())\n",
    "\n",
    "\n",
    "### or we can have a line-based output to check progress\n",
    "# # 1) Start (but don’t wait for it to finish)\n",
    "# handle = sim.start(wait=False)\n",
    "\n",
    "# # 2) At any point, call status()\n",
    "# status = handle.status()   # same as sim.status(job_id=handle[\"id\"])\n",
    "# print(f\"Status:   {status['status']}\")\n",
    "# print(f\"Progress: {status.get('percentComplete', status.get('progress', 'N/A'))}%\")\n",
    "\n",
    "# # 3) Loop until it’s done\n",
    "# import time\n",
    "# while status[\"status\"] not in (\"SUCCEEDED\"): #, \"FAILED\", \"TERMINATED\"):\n",
    "#     time.sleep(1)\n",
    "#     status = handle.status()\n",
    "#     print(f\"→ {status['status']} ({status.get('percentComplete', '0')}% complete)\") # need to change 0 to an output\n"
   ]
  },
  {
   "cell_type": "markdown",
   "id": "09112980",
   "metadata": {},
   "source": [
    "Show in violet for scripts how we can connect the platform with the script + workflow\n",
    "Discuss Sedaro Blueprint and how that helps with changing variables. \n"
   ]
  },
  {
   "cell_type": "code",
   "execution_count": 7,
   "id": "194f02bd",
   "metadata": {},
   "outputs": [
    {
     "ename": "Exception",
     "evalue": "Failed to get stats for sim_id None.  Status code: 404.  Response: {\"error\": {\"code\": \"ENDPOINT_NOT_FOUND\", \"message\": \"The requested endpoint does not exist or is not accessible with your current permissions.\", \"status\": 404}}",
     "output_type": "error",
     "traceback": [
      "\u001b[0;31m---------------------------------------------------------------------------\u001b[0m",
      "\u001b[0;31mException\u001b[0m                                 Traceback (most recent call last)",
      "Cell \u001b[0;32mIn[7], line 1\u001b[0m\n\u001b[0;32m----> 1\u001b[0m stat \u001b[38;5;241m=\u001b[39m \u001b[43msim\u001b[49m\u001b[38;5;241;43m.\u001b[39;49m\u001b[43mstats\u001b[49m\u001b[43m(\u001b[49m\u001b[43m)\u001b[49m\n\u001b[1;32m      2\u001b[0m sim_results \u001b[38;5;241m=\u001b[39m simulation_handle\u001b[38;5;241m.\u001b[39mresults()\n\u001b[1;32m      3\u001b[0m \u001b[38;5;66;03m# print(stat['PRkHzzmM9MMY9JPfBDd7LC/0'].keys())\u001b[39;00m\n\u001b[1;32m      4\u001b[0m \u001b[38;5;66;03m# print(stat['PRkHzzmM9MMY9JPfBDd7LC/1'].keys())\u001b[39;00m\n\u001b[1;32m      5\u001b[0m \u001b[38;5;66;03m# print(stat['PRknkFRHNYJhkCV8b53CLG/0'].keys())\u001b[39;00m\n\u001b[1;32m      6\u001b[0m \u001b[38;5;66;03m# print(stat['PRkHzzmM9MMY9JPfBDd7LC/0']['orbitNumber'])\u001b[39;00m\n",
      "File \u001b[0;32m~/Library/Python/3.9/lib/python/site-packages/sedaro/branches/scenario_branch/sim_client.py:668\u001b[0m, in \u001b[0;36mSimulation.stats\u001b[0;34m(self, job_id, streams, wait)\u001b[0m\n\u001b[1;32m    653\u001b[0m \u001b[38;5;250m\u001b[39m\u001b[38;5;124;03m\"\"\"Query latest scenario stats. If a `job_id` is passed, query for corresponding sim stats rather than latest.\u001b[39;00m\n\u001b[1;32m    654\u001b[0m \n\u001b[1;32m    655\u001b[0m \u001b[38;5;124;03mArgs:\u001b[39;00m\n\u001b[0;32m   (...)\u001b[0m\n\u001b[1;32m    665\u001b[0m \u001b[38;5;124;03m    dict: a dictionary of stats for the sim.\u001b[39;00m\n\u001b[1;32m    666\u001b[0m \u001b[38;5;124;03m\"\"\"\u001b[39;00m\n\u001b[1;32m    667\u001b[0m job \u001b[38;5;241m=\u001b[39m \u001b[38;5;28mself\u001b[39m\u001b[38;5;241m.\u001b[39mstatus(job_id)\n\u001b[0;32m--> 668\u001b[0m result, success \u001b[38;5;241m=\u001b[39m \u001b[43m_get_stats_for_sim_id\u001b[49m\u001b[43m(\u001b[49m\n\u001b[1;32m    669\u001b[0m \u001b[43m    \u001b[49m\u001b[38;5;28;43mself\u001b[39;49m\u001b[38;5;241;43m.\u001b[39;49m\u001b[43m__sedaro\u001b[49m\u001b[43m,\u001b[49m\u001b[43m \u001b[49m\u001b[43mjob\u001b[49m\u001b[43m[\u001b[49m\u001b[38;5;124;43m'\u001b[39;49m\u001b[38;5;124;43mdataArray\u001b[39;49m\u001b[38;5;124;43m'\u001b[39;49m\u001b[43m]\u001b[49m\u001b[43m,\u001b[49m\u001b[43m \u001b[49m\u001b[43mstreams\u001b[49m\u001b[38;5;241;43m=\u001b[39;49m\u001b[43mstreams\u001b[49m\u001b[43m)\u001b[49m\n\u001b[1;32m    670\u001b[0m \u001b[38;5;28;01mif\u001b[39;00m success:\n\u001b[1;32m    671\u001b[0m     \u001b[38;5;28;01mreturn\u001b[39;00m result\n",
      "File \u001b[0;32m~/Library/Python/3.9/lib/python/site-packages/sedaro/branches/scenario_branch/utils.py:103\u001b[0m, in \u001b[0;36m_get_stats_for_sim_id\u001b[0;34m(_sedaro, sim_id, streams)\u001b[0m\n\u001b[1;32m    101\u001b[0m         \u001b[38;5;28;01mreturn\u001b[39;00m \u001b[38;5;28;01mNone\u001b[39;00m, \u001b[38;5;28;01mFalse\u001b[39;00m\n\u001b[1;32m    102\u001b[0m     \u001b[38;5;28;01melse\u001b[39;00m:\n\u001b[0;32m--> 103\u001b[0m         \u001b[38;5;28;01mraise\u001b[39;00m \u001b[38;5;167;01mException\u001b[39;00m(\u001b[38;5;124mf\u001b[39m\u001b[38;5;124m\"\u001b[39m\u001b[38;5;124mFailed to get stats for sim_id \u001b[39m\u001b[38;5;132;01m{\u001b[39;00msim_id\u001b[38;5;132;01m}\u001b[39;00m\u001b[38;5;124m.  Status code: \u001b[39m\u001b[38;5;132;01m{\u001b[39;00mresponse\u001b[38;5;241m.\u001b[39mstatus\u001b[38;5;132;01m}\u001b[39;00m\u001b[38;5;124m.  Response: \u001b[39m\u001b[38;5;132;01m{\u001b[39;00mresponse\u001b[38;5;241m.\u001b[39mdata\u001b[38;5;132;01m}\u001b[39;00m\u001b[38;5;124m\"\u001b[39m)\n\u001b[1;32m    104\u001b[0m contents \u001b[38;5;241m=\u001b[39m response\u001b[38;5;241m.\u001b[39mparse()\n\u001b[1;32m    105\u001b[0m stats\u001b[38;5;241m.\u001b[39mupdate(contents[\u001b[38;5;124m'\u001b[39m\u001b[38;5;124mstats\u001b[39m\u001b[38;5;124m'\u001b[39m])\n",
      "\u001b[0;31mException\u001b[0m: Failed to get stats for sim_id None.  Status code: 404.  Response: {\"error\": {\"code\": \"ENDPOINT_NOT_FOUND\", \"message\": \"The requested endpoint does not exist or is not accessible with your current permissions.\", \"status\": 404}}"
     ]
    }
   ],
   "source": [
    "stat = sim.stats()\n",
    "sim_results = simulation_handle.results()\n",
    "# print(stat['PRkHzzmM9MMY9JPfBDd7LC/0'].keys())\n",
    "# print(stat['PRkHzzmM9MMY9JPfBDd7LC/1'].keys())\n",
    "# print(stat['PRknkFRHNYJhkCV8b53CLG/0'].keys())\n",
    "# print(stat['PRkHzzmM9MMY9JPfBDd7LC/0']['orbitNumber'])\n",
    "pprint(stat)"
   ]
  },
  {
   "cell_type": "code",
   "execution_count": null,
   "id": "7b642fbb",
   "metadata": {},
   "outputs": [
    {
     "name": "stdout",
     "output_type": "stream",
     "text": [
      "end frame:  2025-06-30 21:21:03.310000\n",
      "Sim status:  FAILED\n",
      "Average SOC:  0.5098346603837014\n",
      "Min SOC:  0.0006828450646829915\n"
     ]
    }
   ],
   "source": [
    "end_time = sim_results.end_time\n",
    "print(\"end frame: \",end_time)\n",
    "sim_status = simulation_handle.status()['status']\n",
    "print(\"Sim status: \",sim_status)\n",
    "average_SOC = stat['PRkHzzmM9MMY9JPfBDd7LC/2']['NSghWfrUj9OyAK8OBAXa-.soc']['absAvg']\n",
    "min_SOC = stat['PRkHzzmM9MMY9JPfBDd7LC/2']['NSghWfrUj9OyAK8OBAXa-.soc']['min']\n",
    "print('Average SOC: ', average_SOC)\n",
    "print('Min SOC: ',min_SOC)"
   ]
  },
  {
   "cell_type": "markdown",
   "id": "7bc9a074",
   "metadata": {},
   "source": [
    "At this point, if the simulation failed the workflow will be set to send an email with the summary statistics to remind the customer that this configuration might not owrk."
   ]
  },
  {
   "cell_type": "code",
   "execution_count": null,
   "id": "177ae4fe",
   "metadata": {},
   "outputs": [],
   "source": [
    "# investigated_agent_id = 'PRkHzzmM9MMY9JPfBDd7LC' # main agent template\n",
    "# investigated_agent = sim_results.agent(investigated_agent_id)\n",
    "# energy_storage_block = scenario_branch.block('NZCSzqYT8iR1rfstDw3AF') # directly use \"id\" in Blueprint\n",
    "# pprint(energy_storage_block.data) \n",
    "# this block useless so far as it only probes into the block structure\n"
   ]
  },
  {
   "cell_type": "markdown",
   "id": "78733f1a",
   "metadata": {},
   "source": [
    "## Challenges and Future Directions\n",
    "Challenges: to find the specific thing to change seems to be a custom id, will look into more generalized solution; customers still need to be very fluent in using sedaro python client to make this work; we can assist by adding parameters where they can put in ids so no need to insert in the code. Violet scripts and parameter functions need to be improved to ensure reliability; another note that I cannot change the parameter set since i have no access.\\\n",
    "\\\n",
    "Future plans: short term to add in timeframe that user can change simulation timeframe and the power of each reaction wheel; when violet platform supports, will implement email action. mid term goal is to add in thermal analysis. \n",
    "\n",
    "\n",
    "ask for a list of things you can access in UI "
   ]
  }
 ],
 "metadata": {
  "kernelspec": {
   "display_name": "Python 3",
   "language": "python",
   "name": "python3"
  },
  "language_info": {
   "codemirror_mode": {
    "name": "ipython",
    "version": 3
   },
   "file_extension": ".py",
   "mimetype": "text/x-python",
   "name": "python",
   "nbconvert_exporter": "python",
   "pygments_lexer": "ipython3",
   "version": "3.9.6"
  }
 },
 "nbformat": 4,
 "nbformat_minor": 5
}
