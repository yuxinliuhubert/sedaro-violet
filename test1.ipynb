{
 "cells": [
  {
   "cell_type": "code",
   "execution_count": null,
   "id": "596dd850",
   "metadata": {},
   "outputs": [
    {
     "name": "stdout",
     "output_type": "stream",
     "text": [
      "^C\n",
      "Note: you may need to restart the kernel to use updated packages.\n"
     ]
    },
    {
     "name": "stdout",
     "output_type": "stream",
     "text": [
      "Defaulting to user installation because normal site-packages is not writeable\n",
      "Requirement already satisfied: sedaro in c:\\users\\hubert\\appdata\\local\\packages\\pythonsoftwarefoundation.python.3.13_qbz5n2kfra8p0\\localcache\\local-packages\\python313\\site-packages (4.19.11)\n",
      "Requirement already satisfied: certifi>=14.5.14 in c:\\users\\hubert\\appdata\\local\\packages\\pythonsoftwarefoundation.python.3.13_qbz5n2kfra8p0\\localcache\\local-packages\\python313\\site-packages (from sedaro) (2025.6.15)\n",
      "Requirement already satisfied: dask~=2024.5 in c:\\users\\hubert\\appdata\\local\\packages\\pythonsoftwarefoundation.python.3.13_qbz5n2kfra8p0\\localcache\\local-packages\\python313\\site-packages (from dask[dataframe]~=2024.5->sedaro) (2024.12.1)\n",
      "Requirement already satisfied: flatdict~=4.0.1 in c:\\users\\hubert\\appdata\\local\\packages\\pythonsoftwarefoundation.python.3.13_qbz5n2kfra8p0\\localcache\\local-packages\\python313\\site-packages (from sedaro) (4.0.1)\n",
      "Requirement already satisfied: frozendict~=2.3.4 in c:\\users\\hubert\\appdata\\local\\packages\\pythonsoftwarefoundation.python.3.13_qbz5n2kfra8p0\\localcache\\local-packages\\python313\\site-packages (from sedaro) (2.3.10)\n",
      "Requirement already satisfied: msgpack~=1.1.0 in c:\\users\\hubert\\appdata\\local\\packages\\pythonsoftwarefoundation.python.3.13_qbz5n2kfra8p0\\localcache\\local-packages\\python313\\site-packages (from sedaro) (1.1.1)\n",
      "Requirement already satisfied: python-dateutil~=2.7 in c:\\users\\hubert\\appdata\\local\\packages\\pythonsoftwarefoundation.python.3.13_qbz5n2kfra8p0\\localcache\\local-packages\\python313\\site-packages (from sedaro) (2.9.0.post0)\n",
      "Requirement already satisfied: setuptools>=21.0.0 in c:\\users\\hubert\\appdata\\local\\packages\\pythonsoftwarefoundation.python.3.13_qbz5n2kfra8p0\\localcache\\local-packages\\python313\\site-packages (from sedaro) (80.7.1)\n",
      "Requirement already satisfied: tqdm~=4.66.1 in c:\\users\\hubert\\appdata\\local\\packages\\pythonsoftwarefoundation.python.3.13_qbz5n2kfra8p0\\localcache\\local-packages\\python313\\site-packages (from sedaro) (4.66.6)\n",
      "Requirement already satisfied: typing_extensions<4.14.0,>=4.3.0 in c:\\users\\hubert\\appdata\\local\\packages\\pythonsoftwarefoundation.python.3.13_qbz5n2kfra8p0\\localcache\\local-packages\\python313\\site-packages (from sedaro) (4.13.2)\n",
      "Requirement already satisfied: urllib3~=1.26.7 in c:\\users\\hubert\\appdata\\local\\packages\\pythonsoftwarefoundation.python.3.13_qbz5n2kfra8p0\\localcache\\local-packages\\python313\\site-packages (from sedaro) (1.26.20)\n",
      "Requirement already satisfied: uuid6~=2023.5.2 in c:\\users\\hubert\\appdata\\local\\packages\\pythonsoftwarefoundation.python.3.13_qbz5n2kfra8p0\\localcache\\local-packages\\python313\\site-packages (from sedaro) (2023.5.2)\n",
      "Requirement already satisfied: pydash>=5.1.1 in c:\\users\\hubert\\appdata\\local\\packages\\pythonsoftwarefoundation.python.3.13_qbz5n2kfra8p0\\localcache\\local-packages\\python313\\site-packages (from sedaro) (8.0.5)\n",
      "Requirement already satisfied: scipy>=1.10.1 in c:\\users\\hubert\\appdata\\local\\packages\\pythonsoftwarefoundation.python.3.13_qbz5n2kfra8p0\\localcache\\local-packages\\python313\\site-packages (from sedaro) (1.15.2)\n",
      "Requirement already satisfied: numpy in c:\\users\\hubert\\appdata\\local\\packages\\pythonsoftwarefoundation.python.3.13_qbz5n2kfra8p0\\localcache\\local-packages\\python313\\site-packages (from sedaro) (2.2.5)\n",
      "Requirement already satisfied: orjson in c:\\users\\hubert\\appdata\\local\\packages\\pythonsoftwarefoundation.python.3.13_qbz5n2kfra8p0\\localcache\\local-packages\\python313\\site-packages (from sedaro) (3.10.18)\n",
      "Requirement already satisfied: pyarrow in c:\\users\\hubert\\appdata\\local\\packages\\pythonsoftwarefoundation.python.3.13_qbz5n2kfra8p0\\localcache\\local-packages\\python313\\site-packages (from sedaro) (20.0.0)\n",
      "Requirement already satisfied: requests in c:\\users\\hubert\\appdata\\local\\packages\\pythonsoftwarefoundation.python.3.13_qbz5n2kfra8p0\\localcache\\local-packages\\python313\\site-packages (from sedaro) (2.32.4)\n",
      "Requirement already satisfied: spiceypy in c:\\users\\hubert\\appdata\\local\\packages\\pythonsoftwarefoundation.python.3.13_qbz5n2kfra8p0\\localcache\\local-packages\\python313\\site-packages (from sedaro) (6.0.0)\n",
      "Requirement already satisfied: grpcio in c:\\users\\hubert\\appdata\\local\\packages\\pythonsoftwarefoundation.python.3.13_qbz5n2kfra8p0\\localcache\\local-packages\\python313\\site-packages (from sedaro) (1.73.0)\n",
      "Requirement already satisfied: grpcio-tools in c:\\users\\hubert\\appdata\\local\\packages\\pythonsoftwarefoundation.python.3.13_qbz5n2kfra8p0\\localcache\\local-packages\\python313\\site-packages (from sedaro) (1.73.0)\n",
      "Requirement already satisfied: protobuf in c:\\users\\hubert\\appdata\\local\\packages\\pythonsoftwarefoundation.python.3.13_qbz5n2kfra8p0\\localcache\\local-packages\\python313\\site-packages (from sedaro) (6.31.1)\n",
      "Requirement already satisfied: openpyxl in c:\\users\\hubert\\appdata\\local\\packages\\pythonsoftwarefoundation.python.3.13_qbz5n2kfra8p0\\localcache\\local-packages\\python313\\site-packages (from sedaro) (3.1.5)\n",
      "Requirement already satisfied: pytz==2024.1 in c:\\users\\hubert\\appdata\\local\\packages\\pythonsoftwarefoundation.python.3.13_qbz5n2kfra8p0\\localcache\\local-packages\\python313\\site-packages (from sedaro) (2024.1)\n",
      "Requirement already satisfied: click>=8.1 in c:\\users\\hubert\\appdata\\local\\packages\\pythonsoftwarefoundation.python.3.13_qbz5n2kfra8p0\\localcache\\local-packages\\python313\\site-packages (from dask~=2024.5->dask[dataframe]~=2024.5->sedaro) (8.2.1)\n",
      "Requirement already satisfied: cloudpickle>=3.0.0 in c:\\users\\hubert\\appdata\\local\\packages\\pythonsoftwarefoundation.python.3.13_qbz5n2kfra8p0\\localcache\\local-packages\\python313\\site-packages (from dask~=2024.5->dask[dataframe]~=2024.5->sedaro) (3.1.1)\n",
      "Requirement already satisfied: fsspec>=2021.09.0 in c:\\users\\hubert\\appdata\\local\\packages\\pythonsoftwarefoundation.python.3.13_qbz5n2kfra8p0\\localcache\\local-packages\\python313\\site-packages (from dask~=2024.5->dask[dataframe]~=2024.5->sedaro) (2025.5.1)\n",
      "Requirement already satisfied: packaging>=20.0 in c:\\users\\hubert\\appdata\\local\\packages\\pythonsoftwarefoundation.python.3.13_qbz5n2kfra8p0\\localcache\\local-packages\\python313\\site-packages (from dask~=2024.5->dask[dataframe]~=2024.5->sedaro) (25.0)\n",
      "Requirement already satisfied: partd>=1.4.0 in c:\\users\\hubert\\appdata\\local\\packages\\pythonsoftwarefoundation.python.3.13_qbz5n2kfra8p0\\localcache\\local-packages\\python313\\site-packages (from dask~=2024.5->dask[dataframe]~=2024.5->sedaro) (1.4.2)\n",
      "Requirement already satisfied: pyyaml>=5.3.1 in c:\\users\\hubert\\appdata\\local\\packages\\pythonsoftwarefoundation.python.3.13_qbz5n2kfra8p0\\localcache\\local-packages\\python313\\site-packages (from dask~=2024.5->dask[dataframe]~=2024.5->sedaro) (6.0.2)\n",
      "Requirement already satisfied: toolz>=0.10.0 in c:\\users\\hubert\\appdata\\local\\packages\\pythonsoftwarefoundation.python.3.13_qbz5n2kfra8p0\\localcache\\local-packages\\python313\\site-packages (from dask~=2024.5->dask[dataframe]~=2024.5->sedaro) (1.0.0)\n",
      "Requirement already satisfied: pandas>=2.0 in c:\\users\\hubert\\appdata\\local\\packages\\pythonsoftwarefoundation.python.3.13_qbz5n2kfra8p0\\localcache\\local-packages\\python313\\site-packages (from dask[dataframe]~=2024.5->sedaro) (2.3.0)\n",
      "Requirement already satisfied: dask-expr<1.2,>=1.1 in c:\\users\\hubert\\appdata\\local\\packages\\pythonsoftwarefoundation.python.3.13_qbz5n2kfra8p0\\localcache\\local-packages\\python313\\site-packages (from dask[dataframe]~=2024.5->sedaro) (1.1.21)\n",
      "Requirement already satisfied: six>=1.5 in c:\\users\\hubert\\appdata\\local\\packages\\pythonsoftwarefoundation.python.3.13_qbz5n2kfra8p0\\localcache\\local-packages\\python313\\site-packages (from python-dateutil~=2.7->sedaro) (1.17.0)\n",
      "Requirement already satisfied: colorama in c:\\users\\hubert\\appdata\\local\\packages\\pythonsoftwarefoundation.python.3.13_qbz5n2kfra8p0\\localcache\\local-packages\\python313\\site-packages (from tqdm~=4.66.1->sedaro) (0.4.6)\n",
      "Requirement already satisfied: tzdata>=2022.7 in c:\\users\\hubert\\appdata\\local\\packages\\pythonsoftwarefoundation.python.3.13_qbz5n2kfra8p0\\localcache\\local-packages\\python313\\site-packages (from pandas>=2.0->dask[dataframe]~=2024.5->sedaro) (2025.2)\n",
      "Requirement already satisfied: locket in c:\\users\\hubert\\appdata\\local\\packages\\pythonsoftwarefoundation.python.3.13_qbz5n2kfra8p0\\localcache\\local-packages\\python313\\site-packages (from partd>=1.4.0->dask~=2024.5->dask[dataframe]~=2024.5->sedaro) (1.0.0)\n",
      "Requirement already satisfied: et-xmlfile in c:\\users\\hubert\\appdata\\local\\packages\\pythonsoftwarefoundation.python.3.13_qbz5n2kfra8p0\\localcache\\local-packages\\python313\\site-packages (from openpyxl->sedaro) (2.0.0)\n",
      "Requirement already satisfied: charset_normalizer<4,>=2 in c:\\users\\hubert\\appdata\\local\\packages\\pythonsoftwarefoundation.python.3.13_qbz5n2kfra8p0\\localcache\\local-packages\\python313\\site-packages (from requests->sedaro) (3.4.2)\n",
      "Requirement already satisfied: idna<4,>=2.5 in c:\\users\\hubert\\appdata\\local\\packages\\pythonsoftwarefoundation.python.3.13_qbz5n2kfra8p0\\localcache\\local-packages\\python313\\site-packages (from requests->sedaro) (3.10)\n"
     ]
    }
   ],
   "source": [
    "pip install sedaro\n"
   ]
  },
  {
   "cell_type": "code",
   "execution_count": null,
   "id": "7067d788",
   "metadata": {},
   "outputs": [
    {
     "name": "stderr",
     "output_type": "stream",
     "text": [
      "C:\\Users\\Hubert\\AppData\\Local\\Packages\\PythonSoftwareFoundation.Python.3.13_qbz5n2kfra8p0\\LocalCache\\local-packages\\Python313\\site-packages\\google\\protobuf\\runtime_version.py:98: UserWarning: Protobuf gencode version 5.27.2 is exactly one major version older than the runtime version 6.31.1 at cosim.proto. Please update the gencode to avoid compatibility violations in the next runtime release.\n",
      "  warnings.warn(\n"
     ]
    }
   ],
   "source": [
    "import sedaro as sd\n",
    "API_KEY = \"PKDqMrtcTK4plJgL7qVlQD.0xQph1lyKzd-pV0-ZL7bRIH7BX54Yjqbz6tluwut3Hvp8XE-RVbfHSz2o5vC77scUhg2xBFuBybplxY6FyXXMQ\"\n",
    "\n",
    "sedaro = sd.SedaroApiClient(api_key = API_KEY)"
   ]
  },
  {
   "cell_type": "code",
   "execution_count": null,
   "id": "61a8c037",
   "metadata": {},
   "outputs": [],
   "source": [
    "\n",
    "REPO_ID = \"PRkHJlBrpwLDCqPqfbkdrb\"\n",
    "# agent template is only for satellite model (agent), and don't copy the model repo ID, only the branch ID (version)\n",
    "agent_template_branch = sedaro.agent_template(REPO_ID)\n"
   ]
  },
  {
   "cell_type": "code",
   "execution_count": null,
   "id": "e4555864",
   "metadata": {},
   "outputs": [],
   "source": [
    "SCENARIO_BRANCH_REPO_ID = \"PRkHKpMzZrgnzBhvFV2qwq\"\n",
    "# Get a scenario branch\n",
    "scenario_branch = sedaro.scenario(SCENARIO_BRANCH_REPO_ID)\n"
   ]
  },
  {
   "cell_type": "code",
   "execution_count": null,
   "id": "06d98574",
   "metadata": {},
   "outputs": [],
   "source": [
    "BRANCH_ID = \"PRkHKpMzZrgnzBhvFV2qwq\"\n",
    "# Get any kind of branch\n",
    "branch = sedaro.Branch.get(BRANCH_ID)"
   ]
  },
  {
   "cell_type": "code",
   "execution_count": null,
   "id": "efd54ac0",
   "metadata": {},
   "outputs": [
    {
     "name": "stderr",
     "output_type": "stream",
     "text": [
      "C:\\Users\\Hubert\\AppData\\Local\\Packages\\PythonSoftwareFoundation.Python.3.13_qbz5n2kfra8p0\\LocalCache\\local-packages\\Python313\\site-packages\\google\\protobuf\\runtime_version.py:98: UserWarning: Protobuf gencode version 5.27.2 is exactly one major version older than the runtime version 6.31.1 at cosim.proto. Please update the gencode to avoid compatibility violations in the next runtime release.\n",
      "  warnings.warn(\n"
     ]
    }
   ],
   "source": [
    "from sedaro import SedaroApiClient\n",
    "API_KEY = \"PKDqMrtcTK4plJgL7qVlQD.0xQph1lyKzd-pV0-ZL7bRIH7BX54Yjqbz6tluwut3Hvp8XE-RVbfHSz2o5vC77scUhg2xBFuBybplxY6FyXXMQ\"\n",
    "\n",
    "sedaro = SedaroApiClient(api_key = API_KEY)\n",
    "import time\n",
    "scenario_branch_ID = \"PRkHKpMzZrgnzBhvFV2qwq\"\n",
    "scenario_branch = sedaro.scenario(scenario_branch_ID)\n",
    "sim = scenario_branch.simulation\n",
    "# simulation_handle = sim.start(wait=False)\n",
    "# print(simulation_handle['status'])\n",
    "\n",
    "# simulation_handle = sim.status() # must first grab the status to then call the status\n",
    "# print(simulation_handle.results_poll()) # seems to be stuck while running this line\n"
   ]
  },
  {
   "cell_type": "code",
   "execution_count": null,
   "id": "cf1514cd",
   "metadata": {},
   "outputs": [
    {
     "name": "stdout",
     "output_type": "stream",
     "text": [
      "PENDING\n",
      "<sedaro.branches.scenario_branch.sim_client.SimulationHandle object at 0x00000223FAA00230>\n",
      "Downloading...\n",
      "...download complete!\n",
      "Processing downloaded data...\n",
      "SedaroSimulationResult(branch=PRkHKpMzZrgnzBhvFV2qwq, status=SUCCEEDED)\n"
     ]
    }
   ],
   "source": [
    "simulation_handle = sim.start(wait=False)\n",
    "print(simulation_handle['status'])\n",
    "\n",
    "simulation_handle = sim.status() # must first grab the status to then call the status\n",
    "\n",
    "print(simulation_handle.poll()) # this synchronously update with the progress bar\n",
    "print(simulation_handle.results())"
   ]
  },
  {
   "cell_type": "code",
   "execution_count": null,
   "id": "194f02bd",
   "metadata": {},
   "outputs": [
    {
     "name": "stdout",
     "output_type": "stream",
     "text": [
      "dict_keys(['orbitNumber', 'orbitalElements.a', 'orbitalElements.e', 'orbitalElements.inc_deg', 'orbitalElements.nu_deg', 'orbitalElements.om_deg', 'orbitalElements.raan', 'position.llaDeg.2', 'speed'])\n",
      "dict_keys(['PRkngd9JJDFBskzmrzbhfm.dataVolume'])\n",
      "dict_keys(['position.llaDeg.2', 'rainData.rainProbability', 'speed'])\n",
      "{'absAvg': 3.9882982798334448, 'average': 3.9882982798334448, 'integral': 1.99385462056307, 'max': 8, 'min': 0, 'negativeMax': 0, 'positiveMax': 8}\n"
     ]
    }
   ],
   "source": [
    "stat = sim.stats()\n",
    "print(stat['PRkHzzmM9MMY9JPfBDd7LC/0'].keys())\n",
    "print(stat['PRkHzzmM9MMY9JPfBDd7LC/1'].keys())\n",
    "print(stat['PRknkFRHNYJhkCV8b53CLG/0'].keys())\n",
    "print(stat['PRkHzzmM9MMY9JPfBDd7LC/0']['orbitNumber'])"
   ]
  },
  {
   "cell_type": "code",
   "execution_count": null,
   "id": "5ac65fc2",
   "metadata": {},
   "outputs": [
    {
     "name": "stdout",
     "output_type": "stream",
     "text": [
      "new dry mass is:  120.0\n"
     ]
    }
   ],
   "source": [
    "# to successfully update a model mass, use this method below. only get the branch ID (version x)\n",
    "agent_branch_ID = 'PRkHJlBrpwLDCqPqfbkdrb'\n",
    "agent_branch = sedaro.agent_template(agent_branch_ID)\n",
    "resp = agent_branch.update(mass=120.0)\n",
    "print(\"new dry mass is: \",resp.mass)"
   ]
  },
  {
   "cell_type": "code",
   "execution_count": null,
   "id": "70f13da9",
   "metadata": {},
   "outputs": [
    {
     "name": "stdout",
     "output_type": "stream",
     "text": [
      "PENDING\n"
     ]
    },
    {
     "name": "stderr",
     "output_type": "stream",
     "text": [
      "C:\\Users\\Hubert\\AppData\\Local\\Temp\\ipykernel_25104\\1127912487.py:7: RuntimeWarning: coroutine 'SimulationHandle.results_poll_async' was never awaited\n",
      "  result_poll_obj = simulation_handle.results_poll_async() # still trying to understand what we can extract from poll_async\n",
      "RuntimeWarning: Enable tracemalloc to get the object allocation traceback\n",
      "C:\\Users\\Hubert\\AppData\\Local\\Temp\\ipykernel_25104\\1127912487.py:8: RuntimeWarning: coroutine 'SimulationHandle.poll_async' was never awaited\n",
      "  print(simulation_handle.poll_async())\n",
      "RuntimeWarning: Enable tracemalloc to get the object allocation traceback\n"
     ]
    },
    {
     "name": "stdout",
     "output_type": "stream",
     "text": [
      "<coroutine object SimulationHandle.poll_async at 0x00000223BC2F73D0>\n",
      "PENDING\n",
      "<coroutine object SimulationHandle.poll_async at 0x00000223BC2F7A60>\n",
      "PENDING\n",
      "<coroutine object SimulationHandle.poll_async at 0x00000223BC2F73D0>\n",
      "PENDING\n",
      "<coroutine object SimulationHandle.poll_async at 0x00000223BC2F7A60>\n",
      "PENDING\n",
      "<coroutine object SimulationHandle.poll_async at 0x00000223BC2F73D0>\n",
      "PENDING\n",
      "<coroutine object SimulationHandle.poll_async at 0x00000223BC2F7A60>\n",
      "PENDING\n",
      "<coroutine object SimulationHandle.poll_async at 0x00000223BC2F73D0>\n",
      "PENDING\n",
      "<coroutine object SimulationHandle.poll_async at 0x00000223BC2F7A60>\n",
      "PENDING\n",
      "<coroutine object SimulationHandle.poll_async at 0x00000223BC2F73D0>\n",
      "PROVISIONING\n",
      "<coroutine object SimulationHandle.poll_async at 0x00000223BC2F7A60>\n",
      "BUILDING\n",
      "<coroutine object SimulationHandle.poll_async at 0x00000223BC2F73D0>\n",
      "BUILDING\n",
      "<coroutine object SimulationHandle.poll_async at 0x00000223BC2F7A60>\n",
      "BUILDING\n",
      "<coroutine object SimulationHandle.poll_async at 0x00000223BC2F73D0>\n",
      "BUILDING\n",
      "<coroutine object SimulationHandle.poll_async at 0x00000223BC2F7A60>\n",
      "BUILDING\n",
      "<coroutine object SimulationHandle.poll_async at 0x00000223BC2F73D0>\n",
      "BUILDING\n",
      "<coroutine object SimulationHandle.poll_async at 0x00000223BC2F7A60>\n",
      "BUILDING\n",
      "<coroutine object SimulationHandle.poll_async at 0x00000223BC2F73D0>\n",
      "RUNNING\n",
      "<coroutine object SimulationHandle.poll_async at 0x00000223BC2F7A60>\n",
      "RUNNING\n",
      "<coroutine object SimulationHandle.poll_async at 0x00000223BC2F73D0>\n",
      "RUNNING\n",
      "<coroutine object SimulationHandle.poll_async at 0x00000223BC2F7A60>\n",
      "RUNNING\n",
      "<coroutine object SimulationHandle.poll_async at 0x00000223BC2F73D0>\n",
      "RUNNING\n",
      "<coroutine object SimulationHandle.poll_async at 0x00000223BC2F7A60>\n",
      "RUNNING\n",
      "<coroutine object SimulationHandle.poll_async at 0x00000223BC2F73D0>\n",
      "RUNNING\n",
      "<coroutine object SimulationHandle.poll_async at 0x00000223BC2F7A60>\n",
      "RUNNING\n",
      "<coroutine object SimulationHandle.poll_async at 0x00000223BC2F73D0>\n",
      "RUNNING\n",
      "<coroutine object SimulationHandle.poll_async at 0x00000223BC2F7A60>\n",
      "RUNNING\n",
      "<coroutine object SimulationHandle.poll_async at 0x00000223BC2F73D0>\n",
      "RUNNING\n",
      "<coroutine object SimulationHandle.poll_async at 0x00000223BC2F7A60>\n",
      "RUNNING\n",
      "<coroutine object SimulationHandle.poll_async at 0x00000223BC2F73D0>\n",
      "RUNNING\n",
      "<coroutine object SimulationHandle.poll_async at 0x00000223BC2F7A60>\n",
      "RUNNING\n",
      "<coroutine object SimulationHandle.poll_async at 0x00000223BC2F73D0>\n",
      "RUNNING\n",
      "<coroutine object SimulationHandle.poll_async at 0x00000223BC2F7A60>\n",
      "RUNNING\n",
      "<coroutine object SimulationHandle.poll_async at 0x00000223BC2F73D0>\n",
      "RUNNING\n",
      "<coroutine object SimulationHandle.poll_async at 0x00000223BC2F7A60>\n",
      "SUCCEEDED\n"
     ]
    }
   ],
   "source": [
    "simulation_handle = sim.start(wait=False)\n",
    "print(simulation_handle['status'])\n",
    "\n",
    "exit = False\n",
    "while exit == False:\n",
    "    simulation_handle = sim.status() # must first grab the status to then call the status\n",
    "    result_poll_obj = simulation_handle.results_poll_async() # still trying to understand what we can extract from poll_async\n",
    "    print(simulation_handle.poll_async())\n",
    "    \n",
    "    print(simulation_handle['status'])\n",
    "    if simulation_handle['status'] == 'SUCCEEDED':\n",
    "        exit = True\n",
    "    time.sleep(0.5)\n",
    "\n",
    "\n",
    "\n"
   ]
  },
  {
   "cell_type": "code",
   "execution_count": null,
   "id": "cae8b55b",
   "metadata": {},
   "outputs": [
    {
     "name": "stdout",
     "output_type": "stream",
     "text": [
      "Downloading...\n",
      "...download complete!\n",
      "Processing downloaded data...\n"
     ]
    }
   ],
   "source": [
    "simulation_results = sim.results()"
   ]
  },
  {
   "cell_type": "code",
   "execution_count": null,
   "id": "dc281318",
   "metadata": {},
   "outputs": [
    {
     "name": "stdout",
     "output_type": "stream",
     "text": [
      "{'PRkHzzmM9MMY9JPfBDd7LC/0': {'orbitNumber': {'absAvg': 3.9882982798334448,\n",
      "                                              'average': 3.9882982798334448,\n",
      "                                              'integral': 1.99385462056307,\n",
      "                                              'max': 8,\n",
      "                                              'min': 0,\n",
      "                                              'negativeMax': 0,\n",
      "                                              'positiveMax': 8},\n",
      "                              'orbitalElements.a': {'absAvg': 6678.206571588753,\n",
      "                                                    'average': 6678.206571588753,\n",
      "                                                    'integral': 3338.610127824481,\n",
      "                                                    'max': 6678.37912638654,\n",
      "                                                    'min': 6678.002409492161,\n",
      "                                                    'negativeMax': None,\n",
      "                                                    'positiveMax': 6678.37912638654},\n",
      "                              'orbitalElements.e': {'absAvg': 0.0018554447450570134,\n",
      "                                                    'average': 0.0018554447450570134,\n",
      "                                                    'integral': 0.0009275853555982999,\n",
      "                                                    'max': 0.002968753958192364,\n",
      "                                                    'min': 1.4661054352107742e-10,\n",
      "                                                    'negativeMax': None,\n",
      "                                                    'positiveMax': 0.002968753958192364},\n",
      "                              'orbitalElements.inc_deg': {'absAvg': 0.004741493029317384,\n",
      "                                                          'average': 0.004741493029317384,\n",
      "                                                          'integral': 0.0023703963749839834,\n",
      "                                                          'max': 0.007806912809933432,\n",
      "                                                          'min': 0.0,\n",
      "                                                          'negativeMax': 0,\n",
      "                                                          'positiveMax': 0.007806912809933432},\n",
      "                              'orbitalElements.nu_deg': {'absAvg': 180.09316003458184,\n",
      "                                                         'average': 180.09316003458184,\n",
      "                                                         'integral': 90.0332808813264,\n",
      "                                                         'max': 359.97387730113803,\n",
      "                                                         'min': 0.0168465261959995,\n",
      "                                                         'negativeMax': None,\n",
      "                                                         'positiveMax': 359.97387730113803},\n",
      "                              'orbitalElements.om_deg': {'absAvg': 164.40012926422537,\n",
      "                                                         'average': 164.40012926422537,\n",
      "                                                         'integral': 82.18792436164794,\n",
      "                                                         'max': 359.7941030679684,\n",
      "                                                         'min': 0.0,\n",
      "                                                         'negativeMax': 0,\n",
      "                                                         'positiveMax': 359.7941030679684},\n",
      "                              'orbitalElements.raan': {'absAvg': 3.444312519046647,\n",
      "                                                       'average': 3.444312519046647,\n",
      "                                                       'integral': 1.7219019112710838,\n",
      "                                                       'max': 4.0124930049404055,\n",
      "                                                       'min': 0,\n",
      "                                                       'negativeMax': 0,\n",
      "                                                       'positiveMax': 4.0124930049404055},\n",
      "                              'position.llaDeg.2': {'absAvg': 290.1055675017601,\n",
      "                                                    'average': 290.1055675017601,\n",
      "                                                    'integral': 145.03136065304818,\n",
      "                                                    'max': 300.00012836462884,\n",
      "                                                    'min': 280.368926071822,\n",
      "                                                    'negativeMax': None,\n",
      "                                                    'positiveMax': 300.00012836462884},\n",
      "                              'speed': {'absAvg': 7.737259448313008,\n",
      "                                        'average': 7.737259448313008,\n",
      "                                        'integral': 3.8680583595062523,\n",
      "                                        'max': 7.74861382749188,\n",
      "                                        'min': 7.725760189053677,\n",
      "                                        'negativeMax': None,\n",
      "                                        'positiveMax': 7.74861382749188}},\n",
      " 'PRkHzzmM9MMY9JPfBDd7LC/1': {'PRkngd9JJDFBskzmrzbhfm.dataVolume': {'absAvg': 573.7902292145754,\n",
      "                                                                    'average': 573.7902292145754,\n",
      "                                                                    'integral': 286.82870370230376,\n",
      "                                                                    'max': 1200.0,\n",
      "                                                                    'min': 0.0,\n",
      "                                                                    'negativeMax': 0,\n",
      "                                                                    'positiveMax': 1200.0}},\n",
      " 'PRknkFRHNYJhkCV8b53CLG/0': {'position.llaDeg.2': {'absAvg': 2.696803448621354e-09,\n",
      "                                                    'average': -2.696803448621354e-09,\n",
      "                                                    'integral': -1.3482428834775896e-09,\n",
      "                                                    'max': -7.275957614183426e-12,\n",
      "                                                    'min': -6.331902113743126e-09,\n",
      "                                                    'negativeMax': 6.331902113743126e-09,\n",
      "                                                    'positiveMax': None},\n",
      "                              'rainData.rainProbability': {'absAvg': 0.1345877924338684,\n",
      "                                                           'average': 0.1345877924338684,\n",
      "                                                           'integral': 0.06728596904037837,\n",
      "                                                           'max': 0.2557142857142857,\n",
      "                                                           'min': 0.019642857142857142,\n",
      "                                                           'negativeMax': None,\n",
      "                                                           'positiveMax': 0.2557142857142857},\n",
      "                              'speed': {'absAvg': 0.0,\n",
      "                                        'average': 0.0,\n",
      "                                        'integral': 0.0,\n",
      "                                        'max': 0.0,\n",
      "                                        'min': 0.0,\n",
      "                                        'negativeMax': 0,\n",
      "                                        'positiveMax': 0.0}}}\n"
     ]
    }
   ],
   "source": [
    "# print(simulation_results.stats_fetched)\n",
    "# print(simulation_results.stats_fetched.keys())\n",
    "from pprint import pprint\n",
    "pprint(simulation_results.stats_fetched)\n"
   ]
  },
  {
   "cell_type": "code",
   "execution_count": 19,
   "id": "fa479e29",
   "metadata": {},
   "outputs": [
    {
     "name": "stdout",
     "output_type": "stream",
     "text": [
      "Status:   PENDING\n",
      "Progress: {'currentTime': None, 'percentComplete': None}%\n",
      "→ PENDING (0% complete)\n",
      "→ PENDING (0% complete)\n",
      "→ PENDING (0% complete)\n",
      "→ PENDING (0% complete)\n",
      "→ PENDING (0% complete)\n",
      "→ PROVISIONING (0% complete)\n",
      "→ BUILDING (0% complete)\n",
      "→ BUILDING (0% complete)\n",
      "→ BUILDING (0% complete)\n",
      "→ BUILDING (0% complete)\n",
      "→ BUILDING (0% complete)\n",
      "→ BUILDING (0% complete)\n",
      "→ RUNNING (0% complete)\n",
      "→ RUNNING (0% complete)\n",
      "→ RUNNING (0% complete)\n",
      "→ RUNNING (0% complete)\n",
      "→ RUNNING (0% complete)\n",
      "→ RUNNING (0% complete)\n",
      "→ RUNNING (0% complete)\n",
      "→ RUNNING (0% complete)\n",
      "→ RUNNING (0% complete)\n",
      "→ RUNNING (0% complete)\n",
      "→ RUNNING (0% complete)\n",
      "→ RUNNING (0% complete)\n",
      "→ RUNNING (0% complete)\n",
      "→ RUNNING (0% complete)\n",
      "→ RUNNING (0% complete)\n",
      "→ RUNNING (0% complete)\n",
      "→ RUNNING (0% complete)\n",
      "→ RUNNING (0% complete)\n",
      "→ RUNNING (0% complete)\n",
      "→ RUNNING (0% complete)\n",
      "→ SUCCEEDED (0% complete)\n",
      "Downloading...\n",
      "...download complete!\n",
      "Processing downloaded data...\n"
     ]
    }
   ],
   "source": [
    "# 1) Start (but don’t wait for it to finish)\n",
    "handle = sim.start(wait=False)\n",
    "\n",
    "# 2) At any point, call status()\n",
    "status = handle.status()   # same as sim.status(job_id=handle[\"id\"])\n",
    "print(f\"Status:   {status['status']}\")\n",
    "print(f\"Progress: {status.get('percentComplete', status.get('progress', 'N/A'))}%\")\n",
    "\n",
    "# 3) Loop until it’s done\n",
    "import time\n",
    "while status[\"status\"] not in (\"SUCCEEDED\"): #, \"FAILED\", \"TERMINATED\"):\n",
    "    time.sleep(1)\n",
    "    status = handle.status()\n",
    "    print(f\"→ {status['status']} ({status.get('percentComplete', '0')}% complete)\")\n",
    "\n",
    "# Once it’s COMPLETED you can fetch results:\n",
    "results = handle.results()\n"
   ]
  },
  {
   "cell_type": "code",
   "execution_count": null,
   "id": "020768ec",
   "metadata": {},
   "outputs": [
    {
     "name": "stdout",
     "output_type": "stream",
     "text": [
      "<sedaro.results.agent.SedaroAgentResult object at 0x00000200F8CA7890>\n",
      "---------------------------------------------------------------------------\n",
      "                      Sedaro Simulation Result Summary                     \n",
      "---------------------------------------------------------------------------\n",
      "✅ Simulation succeeded after 72.4s\n",
      "\n",
      "🛰️ Templated Agents \n",
      "    • My In-orbit Spacecraft\n",
      "\n",
      "📡 Peripheral Agents \n",
      "    • My Ground Point\n",
      "---------------------------------------------------------------------------\n",
      "❓ Query agent results with .agent(<NAME>)\n",
      "None\n"
     ]
    }
   ],
   "source": [
    "agent_res = results.agent(\"My In-orbit Spacecraft\") # use the name of the agent\n",
    "print(agent_res)\n",
    "\n",
    "print(results.summarize()) # you can get the results summary this way"
   ]
  }
 ],
 "metadata": {
  "kernelspec": {
   "display_name": "Python 3",
   "language": "python",
   "name": "python3"
  },
  "language_info": {
   "codemirror_mode": {
    "name": "ipython",
    "version": 3
   },
   "file_extension": ".py",
   "mimetype": "text/x-python",
   "name": "python",
   "nbconvert_exporter": "python",
   "pygments_lexer": "ipython3",
   "version": "3.13.5"
  }
 },
 "nbformat": 4,
 "nbformat_minor": 5
}
